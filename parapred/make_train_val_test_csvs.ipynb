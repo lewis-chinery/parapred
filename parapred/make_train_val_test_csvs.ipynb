{
 "cells": [
  {
   "cell_type": "code",
   "execution_count": 1,
   "id": "suited-charter",
   "metadata": {},
   "outputs": [],
   "source": [
    "import os\n",
    "import pandas as pd"
   ]
  },
  {
   "cell_type": "markdown",
   "id": "powerful-austria",
   "metadata": {},
   "source": [
    "### Default format of PECAN csvs / Expanded dataset csvs"
   ]
  },
  {
   "cell_type": "code",
   "execution_count": 2,
   "id": "constitutional-extent",
   "metadata": {},
   "outputs": [
    {
     "data": {
      "text/html": [
       "<div>\n",
       "<table border=\"1\" class=\"dataframe\">\n",
       "  <thead>\n",
       "    <tr style=\"text-align: right;\">\n",
       "      <th></th>\n",
       "      <th>pdb</th>\n",
       "      <th>Lchain</th>\n",
       "      <th>Hchain</th>\n",
       "      <th>antigen_chain</th>\n",
       "    </tr>\n",
       "  </thead>\n",
       "  <tbody>\n",
       "    <tr>\n",
       "      <th>0</th>\n",
       "      <td>7JMO</td>\n",
       "      <td>L</td>\n",
       "      <td>H</td>\n",
       "      <td>A</td>\n",
       "    </tr>\n",
       "    <tr>\n",
       "      <th>1</th>\n",
       "      <td>6AL5</td>\n",
       "      <td>L</td>\n",
       "      <td>H</td>\n",
       "      <td>A</td>\n",
       "    </tr>\n",
       "    <tr>\n",
       "      <th>2</th>\n",
       "      <td>6MQR</td>\n",
       "      <td>L</td>\n",
       "      <td>H</td>\n",
       "      <td>A</td>\n",
       "    </tr>\n",
       "    <tr>\n",
       "      <th>3</th>\n",
       "      <td>1FBI</td>\n",
       "      <td>L</td>\n",
       "      <td>H</td>\n",
       "      <td>X</td>\n",
       "    </tr>\n",
       "    <tr>\n",
       "      <th>4</th>\n",
       "      <td>6JJP</td>\n",
       "      <td>B</td>\n",
       "      <td>A</td>\n",
       "      <td>C</td>\n",
       "    </tr>\n",
       "  </tbody>\n",
       "</table>\n",
       "</div>"
      ],
      "text/plain": [
       "    pdb Lchain Hchain antigen_chain\n",
       "0  7JMO      L      H             A\n",
       "1  6AL5      L      H             A\n",
       "2  6MQR      L      H             A\n",
       "3  1FBI      L      H             X\n",
       "4  6JJP      B      A             C"
      ]
     },
     "execution_count": 2,
     "metadata": {},
     "output_type": "execute_result"
    }
   ],
   "source": [
    "parapred_dir = os.path.abspath(\"\")\n",
    "data_dir = os.path.join(parapred_dir, \"data\")\n",
    "PECAN_dir = os.path.join(data_dir, \"PECAN\")\n",
    "Expanded_data_dir = os.path.join(data_dir, \"Expanded_dataset\")\n",
    "\n",
    "# train_csv = os.path.join(PECAN_dir, \"train_set.csv\")\n",
    "# val_csv = os.path.join(PECAN_dir, \"val_set.csv\")\n",
    "# test_csv = os.path.join(PECAN_dir, \"test_set.csv\")\n",
    "\n",
    "train_csv = os.path.join(Expanded_data_dir, \"train_set.csv\")\n",
    "val_csv = os.path.join(Expanded_data_dir, \"val_set.csv\")\n",
    "test_csv = os.path.join(Expanded_data_dir, \"test_set.csv\")\n",
    "\n",
    "train_df = pd.read_csv(train_csv, header=None, names=[\"pdb\", \"Lchain\", \"Hchain\", \"antigen_chain\"])\n",
    "val_df = pd.read_csv(val_csv, header=None, names=[\"pdb\", \"Lchain\", \"Hchain\", \"antigen_chain\"])\n",
    "test_df = pd.read_csv(test_csv, header=None, names=[\"pdb\", \"Lchain\", \"Hchain\", \"antigen_chain\"])\n",
    "\n",
    "test_df.head()"
   ]
  },
  {
   "cell_type": "markdown",
   "id": "italian-handbook",
   "metadata": {},
   "source": [
    "### Desired data format"
   ]
  },
  {
   "cell_type": "code",
   "execution_count": 3,
   "id": "decreased-taylor",
   "metadata": {},
   "outputs": [
    {
     "data": {
      "text/html": [
       "<div>\n",
       "<table border=\"1\" class=\"dataframe\">\n",
       "  <thead>\n",
       "    <tr style=\"text-align: right;\">\n",
       "      <th></th>\n",
       "      <th>pdb</th>\n",
       "      <th>Hchain</th>\n",
       "      <th>Lchain</th>\n",
       "      <th>model</th>\n",
       "      <th>antigen_chain</th>\n",
       "    </tr>\n",
       "  </thead>\n",
       "  <tbody>\n",
       "    <tr>\n",
       "      <th>0</th>\n",
       "      <td>4bz1</td>\n",
       "      <td>H</td>\n",
       "      <td>L</td>\n",
       "      <td>0</td>\n",
       "      <td>A</td>\n",
       "    </tr>\n",
       "    <tr>\n",
       "      <th>1</th>\n",
       "      <td>3gbm</td>\n",
       "      <td>I</td>\n",
       "      <td>M</td>\n",
       "      <td>0</td>\n",
       "      <td>D | C</td>\n",
       "    </tr>\n",
       "    <tr>\n",
       "      <th>2</th>\n",
       "      <td>2qqn</td>\n",
       "      <td>H</td>\n",
       "      <td>L</td>\n",
       "      <td>0</td>\n",
       "      <td>A</td>\n",
       "    </tr>\n",
       "    <tr>\n",
       "      <th>3</th>\n",
       "      <td>5mes</td>\n",
       "      <td>H</td>\n",
       "      <td>L</td>\n",
       "      <td>0</td>\n",
       "      <td>A</td>\n",
       "    </tr>\n",
       "    <tr>\n",
       "      <th>4</th>\n",
       "      <td>2ypv</td>\n",
       "      <td>H</td>\n",
       "      <td>L</td>\n",
       "      <td>0</td>\n",
       "      <td>A</td>\n",
       "    </tr>\n",
       "  </tbody>\n",
       "</table>\n",
       "</div>"
      ],
      "text/plain": [
       "    pdb Hchain Lchain  model antigen_chain\n",
       "0  4bz1      H      L      0             A\n",
       "1  3gbm      I      M      0         D | C\n",
       "2  2qqn      H      L      0             A\n",
       "3  5mes      H      L      0             A\n",
       "4  2ypv      H      L      0             A"
      ]
     },
     "execution_count": 3,
     "metadata": {},
     "output_type": "execute_result"
    }
   ],
   "source": [
    "default_dataset_csv = os.path.join(data_dir, \"dataset.csv\")\n",
    "default_dataset_df = pd.read_csv(default_dataset_csv)\n",
    "default_dataset_df.head()"
   ]
  },
  {
   "cell_type": "markdown",
   "id": "effective-adams",
   "metadata": {},
   "source": [
    "### Converting to desired format"
   ]
  },
  {
   "cell_type": "code",
   "execution_count": 4,
   "id": "prerequisite-maintenance",
   "metadata": {},
   "outputs": [
    {
     "data": {
      "text/html": [
       "<div>\n",
       "<table border=\"1\" class=\"dataframe\">\n",
       "  <thead>\n",
       "    <tr style=\"text-align: right;\">\n",
       "      <th></th>\n",
       "      <th>pdb</th>\n",
       "      <th>Hchain</th>\n",
       "      <th>Lchain</th>\n",
       "      <th>model</th>\n",
       "      <th>antigen_chain</th>\n",
       "    </tr>\n",
       "  </thead>\n",
       "  <tbody>\n",
       "    <tr>\n",
       "      <th>0</th>\n",
       "      <td>7jmo</td>\n",
       "      <td>H</td>\n",
       "      <td>L</td>\n",
       "      <td>0</td>\n",
       "      <td>A</td>\n",
       "    </tr>\n",
       "    <tr>\n",
       "      <th>1</th>\n",
       "      <td>6al5</td>\n",
       "      <td>H</td>\n",
       "      <td>L</td>\n",
       "      <td>0</td>\n",
       "      <td>A</td>\n",
       "    </tr>\n",
       "    <tr>\n",
       "      <th>2</th>\n",
       "      <td>6mqr</td>\n",
       "      <td>H</td>\n",
       "      <td>L</td>\n",
       "      <td>0</td>\n",
       "      <td>A</td>\n",
       "    </tr>\n",
       "    <tr>\n",
       "      <th>3</th>\n",
       "      <td>1fbi</td>\n",
       "      <td>H</td>\n",
       "      <td>L</td>\n",
       "      <td>0</td>\n",
       "      <td>X</td>\n",
       "    </tr>\n",
       "    <tr>\n",
       "      <th>4</th>\n",
       "      <td>6jjp</td>\n",
       "      <td>A</td>\n",
       "      <td>B</td>\n",
       "      <td>0</td>\n",
       "      <td>C</td>\n",
       "    </tr>\n",
       "  </tbody>\n",
       "</table>\n",
       "</div>"
      ],
      "text/plain": [
       "    pdb Hchain Lchain  model antigen_chain\n",
       "0  7jmo      H      L      0             A\n",
       "1  6al5      H      L      0             A\n",
       "2  6mqr      H      L      0             A\n",
       "3  1fbi      H      L      0             X\n",
       "4  6jjp      A      B      0             C"
      ]
     },
     "execution_count": 4,
     "metadata": {},
     "output_type": "execute_result"
    }
   ],
   "source": [
    "new_train_df = train_df.copy()\n",
    "new_val_df = val_df.copy()\n",
    "new_test_df = test_df.copy()\n",
    "\n",
    "dfs = [new_train_df, new_val_df, new_test_df]\n",
    "\n",
    "for df in dfs:\n",
    "    \n",
    "    df[\"model\"] = 0\n",
    "    df[\"pdb\"] = df.apply(lambda row: row[\"pdb\"].lower(), axis=1)\n",
    "    df[\"antigen_chain\"] = df.apply(lambda row: \" | \".join(row[\"antigen_chain\"].split(\";\")), axis=1)\n",
    "    \n",
    "    old_col_order = df.columns\n",
    "    new_col_order = default_dataset_df.columns\n",
    "    \n",
    "    # we can't simply reorder columns in normal way, instead need to use below\n",
    "    # https://www.py4u.net/discuss/1390066\n",
    "    for c in new_col_order:\n",
    "        df.insert(df.shape[1],c+'_new',df[c])\n",
    "    for c in old_col_order:\n",
    "        del df[c]   \n",
    "    df.columns = new_col_order\n",
    "\n",
    "new_test_df.head()"
   ]
  },
  {
   "cell_type": "markdown",
   "id": "convenient-sunset",
   "metadata": {},
   "source": [
    "### Save new csvs"
   ]
  },
  {
   "cell_type": "code",
   "execution_count": 5,
   "id": "bigger-jewel",
   "metadata": {},
   "outputs": [],
   "source": [
    "# new_train_csv = os.path.join(data_dir, \"dataset_train.csv\")\n",
    "# new_val_csv = os.path.join(data_dir, \"dataset_val.csv\")\n",
    "# new_test_csv = os.path.join(data_dir, \"dataset_test.csv\")\n",
    "\n",
    "new_train_csv = os.path.join(data_dir, \"dataset_train_BIG.csv\")\n",
    "new_val_csv = os.path.join(data_dir, \"dataset_val_BIG.csv\")\n",
    "new_test_csv = os.path.join(data_dir, \"dataset_test_BIG.csv\")\n",
    "\n",
    "csvs = [new_train_csv, new_val_csv, new_test_csv]\n",
    "\n",
    "for df, csv in zip(dfs, csvs):\n",
    "    df.to_csv(csv, index=False)"
   ]
  },
  {
   "cell_type": "code",
   "execution_count": null,
   "id": "rural-cutting",
   "metadata": {},
   "outputs": [],
   "source": []
  },
  {
   "cell_type": "code",
   "execution_count": null,
   "id": "blank-birthday",
   "metadata": {},
   "outputs": [],
   "source": []
  }
 ],
 "metadata": {
  "kernelspec": {
   "display_name": "pp_custom",
   "language": "python",
   "name": "pp_custom"
  },
  "language_info": {
   "codemirror_mode": {
    "name": "ipython",
    "version": 3
   },
   "file_extension": ".py",
   "mimetype": "text/x-python",
   "name": "python",
   "nbconvert_exporter": "python",
   "pygments_lexer": "ipython3",
   "version": "3.6.13"
  }
 },
 "nbformat": 4,
 "nbformat_minor": 5
}
