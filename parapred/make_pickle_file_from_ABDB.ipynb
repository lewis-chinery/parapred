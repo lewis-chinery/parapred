{
 "cells": [
  {
   "cell_type": "code",
   "execution_count": 135,
   "id": "acquired-meeting",
   "metadata": {},
   "outputs": [],
   "source": [
    "import os\n",
    "import pandas as pd\n",
    "import pickle\n",
    "from ABDB import database as db"
   ]
  },
  {
   "cell_type": "code",
   "execution_count": 100,
   "id": "daily-printer",
   "metadata": {},
   "outputs": [],
   "source": [
    "db.set_numbering_scheme(\"chothia\")\n",
    "\n",
    "if db.get_numbering_scheme() != \"chothia\":\n",
    "    raise ValueError()"
   ]
  },
  {
   "cell_type": "markdown",
   "id": "controlled-candle",
   "metadata": {},
   "source": [
    "### Get current data"
   ]
  },
  {
   "cell_type": "code",
   "execution_count": 62,
   "id": "employed-nancy",
   "metadata": {},
   "outputs": [],
   "source": [
    "parapred_dir = os.path.abspath(\"\")\n",
    "data_dir = os.path.join(parapred_dir, \"data\")\n",
    "precomputed_dir = os.path.join(parapred_dir, \"precomputed\")\n",
    "\n",
    "train_csv = os.path.join(data_dir, \"dataset_train.csv\")\n",
    "val_csv = os.path.join(data_dir, \"dataset_val.csv\")\n",
    "test_csv = os.path.join(data_dir, \"dataset_test.csv\")\n",
    "\n",
    "train_df = pd.read_csv(train_csv)\n",
    "val_df = pd.read_csv(val_csv)\n",
    "test_df = pd.read_csv(test_csv)\n",
    "all_data_df = pd.concat([train_df, val_df, test_df])\n",
    "\n",
    "seqs_pickle = os.path.join(precomputed_dir, \"downloaded_seqs.p\")"
   ]
  },
  {
   "cell_type": "markdown",
   "id": "racial-general",
   "metadata": {},
   "source": [
    "##### Csvs"
   ]
  },
  {
   "cell_type": "code",
   "execution_count": 63,
   "id": "enclosed-mercury",
   "metadata": {},
   "outputs": [
    {
     "data": {
      "text/html": [
       "<div>\n",
       "<style scoped>\n",
       "    .dataframe tbody tr th:only-of-type {\n",
       "        vertical-align: middle;\n",
       "    }\n",
       "\n",
       "    .dataframe tbody tr th {\n",
       "        vertical-align: top;\n",
       "    }\n",
       "\n",
       "    .dataframe thead th {\n",
       "        text-align: right;\n",
       "    }\n",
       "</style>\n",
       "<table border=\"1\" class=\"dataframe\">\n",
       "  <thead>\n",
       "    <tr style=\"text-align: right;\">\n",
       "      <th></th>\n",
       "      <th>pdb</th>\n",
       "      <th>Hchain</th>\n",
       "      <th>Lchain</th>\n",
       "      <th>model</th>\n",
       "      <th>antigen_chain</th>\n",
       "    </tr>\n",
       "  </thead>\n",
       "  <tbody>\n",
       "    <tr>\n",
       "      <th>0</th>\n",
       "      <td>1a3r</td>\n",
       "      <td>H</td>\n",
       "      <td>L</td>\n",
       "      <td>0</td>\n",
       "      <td>P</td>\n",
       "    </tr>\n",
       "    <tr>\n",
       "      <th>1</th>\n",
       "      <td>1acy</td>\n",
       "      <td>H</td>\n",
       "      <td>L</td>\n",
       "      <td>0</td>\n",
       "      <td>P</td>\n",
       "    </tr>\n",
       "    <tr>\n",
       "      <th>2</th>\n",
       "      <td>1ahw</td>\n",
       "      <td>E</td>\n",
       "      <td>D</td>\n",
       "      <td>0</td>\n",
       "      <td>F</td>\n",
       "    </tr>\n",
       "    <tr>\n",
       "      <th>3</th>\n",
       "      <td>1bgx</td>\n",
       "      <td>H</td>\n",
       "      <td>L</td>\n",
       "      <td>0</td>\n",
       "      <td>T</td>\n",
       "    </tr>\n",
       "    <tr>\n",
       "      <th>4</th>\n",
       "      <td>1bvk</td>\n",
       "      <td>E</td>\n",
       "      <td>D</td>\n",
       "      <td>0</td>\n",
       "      <td>F</td>\n",
       "    </tr>\n",
       "  </tbody>\n",
       "</table>\n",
       "</div>"
      ],
      "text/plain": [
       "    pdb Hchain Lchain  model antigen_chain\n",
       "0  1a3r      H      L      0             P\n",
       "1  1acy      H      L      0             P\n",
       "2  1ahw      E      D      0             F\n",
       "3  1bgx      H      L      0             T\n",
       "4  1bvk      E      D      0             F"
      ]
     },
     "execution_count": 63,
     "metadata": {},
     "output_type": "execute_result"
    }
   ],
   "source": [
    "train_val_test_pdbs = all_data_df[\"pdb\"].tolist()\n",
    "all_data_df.head()"
   ]
  },
  {
   "cell_type": "markdown",
   "id": "lined-roman",
   "metadata": {},
   "source": [
    "##### Pickle"
   ]
  },
  {
   "cell_type": "code",
   "execution_count": 139,
   "id": "coupled-background",
   "metadata": {},
   "outputs": [
    {
     "name": "stdout",
     "output_type": "stream",
     "text": [
      "2hh0\n"
     ]
    },
    {
     "data": {
      "text/plain": [
       "{'H': {(4, ''): 'L',\n",
       "  (5, ''): 'E',\n",
       "  (6, ''): 'Q',\n",
       "  (7, ''): 'S',\n",
       "  (8, ''): 'G',\n",
       "  (9, ''): 'A',\n",
       "  (10, ''): 'E',\n",
       "  (11, ''): 'L',\n",
       "  (12, ''): 'V',\n",
       "  (13, ''): 'K',\n",
       "  (14, ''): 'P',\n",
       "  (15, ''): 'G',\n",
       "  (16, ''): 'A',\n",
       "  (17, ''): 'S',\n",
       "  (18, ''): 'V',\n",
       "  (19, ''): 'K',\n",
       "  (20, ''): 'L',\n",
       "  (21, ''): 'S',\n",
       "  (22, ''): 'C',\n",
       "  (23, ''): 'T',\n",
       "  (24, ''): 'A',\n",
       "  (25, ''): 'S',\n",
       "  (26, ''): 'G',\n",
       "  (27, ''): 'F',\n",
       "  (28, ''): 'N',\n",
       "  (29, ''): 'I',\n",
       "  (30, ''): 'E',\n",
       "  (31, ''): 'D',\n",
       "  (32, ''): 'S',\n",
       "  (33, ''): 'Y',\n",
       "  (34, ''): 'I',\n",
       "  (35, ''): 'H',\n",
       "  (36, ''): 'W',\n",
       "  (37, ''): 'V',\n",
       "  (38, ''): 'K',\n",
       "  (39, ''): 'Q',\n",
       "  (40, ''): 'R',\n",
       "  (41, ''): 'P',\n",
       "  (42, ''): 'E',\n",
       "  (43, ''): 'Q',\n",
       "  (44, ''): 'G',\n",
       "  (45, ''): 'L',\n",
       "  (46, ''): 'E',\n",
       "  (47, ''): 'W',\n",
       "  (48, ''): 'I',\n",
       "  (49, ''): 'G',\n",
       "  (50, ''): 'R',\n",
       "  (51, ''): 'I',\n",
       "  (52, ''): 'D',\n",
       "  (52, 'A'): 'P',\n",
       "  (53, ''): 'E',\n",
       "  (54, ''): 'D',\n",
       "  (55, ''): 'G',\n",
       "  (56, ''): 'E',\n",
       "  (57, ''): 'T',\n",
       "  (58, ''): 'K',\n",
       "  (59, ''): 'Y',\n",
       "  (60, ''): 'A',\n",
       "  (61, ''): 'P',\n",
       "  (62, ''): 'K',\n",
       "  (63, ''): 'F',\n",
       "  (64, ''): 'Q',\n",
       "  (65, ''): 'G',\n",
       "  (66, ''): 'K',\n",
       "  (67, ''): 'A',\n",
       "  (68, ''): 'T',\n",
       "  (69, ''): 'I',\n",
       "  (70, ''): 'T',\n",
       "  (71, ''): 'A',\n",
       "  (72, ''): 'D',\n",
       "  (73, ''): 'T',\n",
       "  (74, ''): 'S',\n",
       "  (75, ''): 'S',\n",
       "  (76, ''): 'N',\n",
       "  (77, ''): 'T',\n",
       "  (78, ''): 'A',\n",
       "  (79, ''): 'Y',\n",
       "  (80, ''): 'L',\n",
       "  (81, ''): 'H',\n",
       "  (82, ''): 'L',\n",
       "  (82, 'A'): 'R',\n",
       "  (82, 'B'): 'R',\n",
       "  (82, 'C'): 'L',\n",
       "  (83, ''): 'T',\n",
       "  (84, ''): 'S',\n",
       "  (85, ''): 'E',\n",
       "  (86, ''): 'D',\n",
       "  (87, ''): 'T',\n",
       "  (88, ''): 'A',\n",
       "  (89, ''): 'I',\n",
       "  (90, ''): 'Y',\n",
       "  (91, ''): 'Y',\n",
       "  (92, ''): 'C',\n",
       "  (93, ''): 'G',\n",
       "  (94, ''): 'R',\n",
       "  (95, ''): 'G',\n",
       "  (96, ''): 'A',\n",
       "  (97, ''): 'Y',\n",
       "  (98, ''): 'Y',\n",
       "  (99, ''): 'I',\n",
       "  (100, ''): 'K',\n",
       "  (100, 'A'): 'E',\n",
       "  (101, ''): 'D',\n",
       "  (102, ''): 'F',\n",
       "  (103, ''): 'W',\n",
       "  (104, ''): 'G',\n",
       "  (105, ''): 'Q',\n",
       "  (106, ''): 'G',\n",
       "  (107, ''): 'T',\n",
       "  (108, ''): 'T',\n",
       "  (109, ''): 'L',\n",
       "  (110, ''): 'T',\n",
       "  (111, ''): 'V',\n",
       "  (112, ''): 'S',\n",
       "  (113, ''): 'S'},\n",
       " 'L': {(3, ''): 'V',\n",
       "  (4, ''): 'M',\n",
       "  (5, ''): 'T',\n",
       "  (6, ''): 'Q',\n",
       "  (7, ''): 'T',\n",
       "  (8, ''): 'P',\n",
       "  (9, ''): 'S',\n",
       "  (10, ''): 'S',\n",
       "  (11, ''): 'L',\n",
       "  (12, ''): 'S',\n",
       "  (13, ''): 'A',\n",
       "  (14, ''): 'S',\n",
       "  (15, ''): 'L',\n",
       "  (16, ''): 'G',\n",
       "  (17, ''): 'E',\n",
       "  (18, ''): 'R',\n",
       "  (19, ''): 'V',\n",
       "  (20, ''): 'S',\n",
       "  (21, ''): 'L',\n",
       "  (22, ''): 'T',\n",
       "  (23, ''): 'C',\n",
       "  (24, ''): 'R',\n",
       "  (25, ''): 'A',\n",
       "  (26, ''): 'S',\n",
       "  (27, ''): 'Q',\n",
       "  (28, ''): 'D',\n",
       "  (29, ''): 'I',\n",
       "  (30, ''): 'G',\n",
       "  (31, ''): 'N',\n",
       "  (32, ''): 'N',\n",
       "  (33, ''): 'L',\n",
       "  (34, ''): 'N',\n",
       "  (35, ''): 'W',\n",
       "  (36, ''): 'I',\n",
       "  (37, ''): 'Q',\n",
       "  (38, ''): 'Q',\n",
       "  (39, ''): 'K',\n",
       "  (40, ''): 'P',\n",
       "  (41, ''): 'D',\n",
       "  (42, ''): 'G',\n",
       "  (43, ''): 'T',\n",
       "  (44, ''): 'I',\n",
       "  (45, ''): 'K',\n",
       "  (46, ''): 'R',\n",
       "  (47, ''): 'L',\n",
       "  (48, ''): 'I',\n",
       "  (49, ''): 'Y',\n",
       "  (50, ''): 'A',\n",
       "  (51, ''): 'T',\n",
       "  (52, ''): 'S',\n",
       "  (53, ''): 'S',\n",
       "  (54, ''): 'L',\n",
       "  (55, ''): 'D',\n",
       "  (56, ''): 'S',\n",
       "  (57, ''): 'G',\n",
       "  (58, ''): 'V',\n",
       "  (59, ''): 'P',\n",
       "  (60, ''): 'K',\n",
       "  (61, ''): 'R',\n",
       "  (62, ''): 'F',\n",
       "  (63, ''): 'S',\n",
       "  (64, ''): 'G',\n",
       "  (65, ''): 'S',\n",
       "  (66, ''): 'R',\n",
       "  (67, ''): 'S',\n",
       "  (68, ''): 'G',\n",
       "  (69, ''): 'S',\n",
       "  (70, ''): 'D',\n",
       "  (71, ''): 'Y',\n",
       "  (72, ''): 'S',\n",
       "  (73, ''): 'L',\n",
       "  (74, ''): 'T',\n",
       "  (75, ''): 'I',\n",
       "  (76, ''): 'S',\n",
       "  (77, ''): 'S',\n",
       "  (78, ''): 'L',\n",
       "  (79, ''): 'E',\n",
       "  (80, ''): 'S',\n",
       "  (81, ''): 'E',\n",
       "  (82, ''): 'D',\n",
       "  (83, ''): 'F',\n",
       "  (84, ''): 'A',\n",
       "  (85, ''): 'D',\n",
       "  (86, ''): 'Y',\n",
       "  (87, ''): 'Y',\n",
       "  (88, ''): 'C',\n",
       "  (89, ''): 'L',\n",
       "  (90, ''): 'Q',\n",
       "  (91, ''): 'H',\n",
       "  (92, ''): 'D',\n",
       "  (93, ''): 'T',\n",
       "  (94, ''): 'F',\n",
       "  (95, ''): 'P',\n",
       "  (96, ''): 'L',\n",
       "  (97, ''): 'T',\n",
       "  (98, ''): 'F',\n",
       "  (99, ''): 'G',\n",
       "  (100, ''): 'G',\n",
       "  (101, ''): 'G',\n",
       "  (102, ''): 'T',\n",
       "  (103, ''): 'K',\n",
       "  (104, ''): 'L',\n",
       "  (105, ''): 'E',\n",
       "  (106, ''): 'I',\n",
       "  (107, ''): 'K'}}"
      ]
     },
     "execution_count": 139,
     "metadata": {},
     "output_type": "execute_result"
    }
   ],
   "source": [
    "if os.path.isfile(seqs_pickle):\n",
    "    with open(seqs_pickle, \"rb\") as f:\n",
    "        current_pickle = pickle.load(f)\n",
    "\n",
    "current_pickle_pdbs = list(current_pickle.keys())\n",
    "pdb0 = current_pickle_pdbs[0]\n",
    "\n",
    "print(pdb0)\n",
    "current_pickle[pdb0]"
   ]
  },
  {
   "cell_type": "markdown",
   "id": "equivalent-response",
   "metadata": {},
   "source": [
    "### Compare the different data"
   ]
  },
  {
   "cell_type": "code",
   "execution_count": 140,
   "id": "pointed-metro",
   "metadata": {},
   "outputs": [
    {
     "name": "stdout",
     "output_type": "stream",
     "text": [
      "Number of pdbs in pickle: \t1023\n",
      "Number of pdbs in csvs: \t460\n"
     ]
    }
   ],
   "source": [
    "current_pickle_pdbs = current_pickle.keys()\n",
    "train_val_test_pdbs = all_data_df[\"pdb\"].tolist()\n",
    "\n",
    "print(f\"Number of pdbs in pickle: \\t{len(current_pickle_pdbs)}\")\n",
    "print(f\"Number of pdbs in csvs: \\t{len(train_val_test_pdbs)}\")"
   ]
  },
  {
   "cell_type": "markdown",
   "id": "seven-double",
   "metadata": {},
   "source": [
    "##### Check if all pdbs in my csv have entries in the pickle file"
   ]
  },
  {
   "cell_type": "code",
   "execution_count": 141,
   "id": "checked-pleasure",
   "metadata": {},
   "outputs": [
    {
     "name": "stdout",
     "output_type": "stream",
     "text": [
      "Number of pdbs in csvs but not pickle: \t30\n"
     ]
    }
   ],
   "source": [
    "# quick check how many pdbs (ignore chains for now) are not in pickle\n",
    "csv_but_not_pickle_pdbs = [pdb for pdb in train_val_test_pdbs if pdb not in current_pickle_pdbs]\n",
    "print(f\"Number of pdbs in csvs but not pickle: \\t{len(csv_but_not_pickle_pdbs)}\")"
   ]
  },
  {
   "cell_type": "markdown",
   "id": "complex-recycling",
   "metadata": {},
   "source": [
    "##### Add new entries to pickle as needed"
   ]
  },
  {
   "cell_type": "code",
   "execution_count": 142,
   "id": "terminal-socket",
   "metadata": {},
   "outputs": [],
   "source": [
    "new_pickle = current_pickle.copy()"
   ]
  },
  {
   "cell_type": "code",
   "execution_count": 143,
   "id": "damaged-mexico",
   "metadata": {},
   "outputs": [],
   "source": [
    "for index, row in all_data_df.iterrows():\n",
    "    \n",
    "    pdb = row[\"pdb\"]\n",
    "    Hchain = row[\"Hchain\"]\n",
    "    Lchain = row[\"Lchain\"]\n",
    "    csv_chains = [Hchain, Lchain]\n",
    "    \n",
    "    if pdb in new_pickle.keys():\n",
    "        pass\n",
    "    else:\n",
    "        new_pickle[pdb] = {}\n",
    "        \n",
    "    pickle_chains = list(new_pickle[pdb].keys())\n",
    "    for chain in csv_chains:\n",
    "        if chain not in pickle_chains:\n",
    "            p = db.fetch(pdb)\n",
    "            new_pickle[pdb][chain] = dict(p.get_numbering()[chain][0][0])"
   ]
  },
  {
   "cell_type": "markdown",
   "id": "warming-setup",
   "metadata": {},
   "source": [
    "##### Recheck - all pdbs should now have an entry in the new pickle"
   ]
  },
  {
   "cell_type": "code",
   "execution_count": 144,
   "id": "adjacent-cache",
   "metadata": {},
   "outputs": [
    {
     "name": "stdout",
     "output_type": "stream",
     "text": [
      "Number of pdbs in new pickle: \t1053\n",
      "Number of pdbs in csvs: \t460\n",
      "\n",
      "Number of pdbs in csvs but not pickle: \t0\n"
     ]
    }
   ],
   "source": [
    "new_pickle_pdbs = new_pickle.keys()\n",
    "print(f\"Number of pdbs in new pickle: \\t{len(new_pickle_pdbs)}\")\n",
    "print(f\"Number of pdbs in csvs: \\t{len(train_val_test_pdbs)}\")\n",
    "\n",
    "csv_but_not_pickle_pdbs = [pdb for pdb in train_val_test_pdbs if pdb not in new_pickle_pdbs]\n",
    "print(f\"\\nNumber of pdbs in csvs but not pickle: \\t{len(csv_but_not_pickle_pdbs)}\")"
   ]
  },
  {
   "cell_type": "markdown",
   "id": "confirmed-romantic",
   "metadata": {},
   "source": [
    "### Create back-up of original pickle and overwrite previous one with new version"
   ]
  },
  {
   "cell_type": "code",
   "execution_count": 145,
   "id": "perceived-brave",
   "metadata": {},
   "outputs": [],
   "source": [
    "back_up_pickle = os.path.join(precomputed_dir, \"downloaded_seqs.p.bu\")\n",
    "\n",
    "with open(back_up_pickle, \"wb\") as f:\n",
    "    pickle.dump(current_pickle, f)"
   ]
  },
  {
   "cell_type": "code",
   "execution_count": 148,
   "id": "chubby-truck",
   "metadata": {},
   "outputs": [],
   "source": [
    "with open(seqs_pickle, \"wb\") as f:\n",
    "    pickle.dump(new_pickle, f)"
   ]
  },
  {
   "cell_type": "code",
   "execution_count": null,
   "id": "parental-haiti",
   "metadata": {},
   "outputs": [],
   "source": []
  }
 ],
 "metadata": {
  "kernelspec": {
   "display_name": "egnn_env",
   "language": "python",
   "name": "egnn_env"
  },
  "language_info": {
   "codemirror_mode": {
    "name": "ipython",
    "version": 3
   },
   "file_extension": ".py",
   "mimetype": "text/x-python",
   "name": "python",
   "nbconvert_exporter": "python",
   "pygments_lexer": "ipython3",
   "version": "3.8.11"
  }
 },
 "nbformat": 4,
 "nbformat_minor": 5
}
