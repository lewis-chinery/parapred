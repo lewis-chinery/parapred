{
 "cells": [
  {
   "cell_type": "markdown",
   "id": "premium-detail",
   "metadata": {},
   "source": [
    "### Imports"
   ]
  },
  {
   "cell_type": "code",
   "execution_count": 20,
   "id": "historical-matter",
   "metadata": {},
   "outputs": [],
   "source": [
    "import os\n",
    "import sys\n",
    "import pandas as pd\n",
    "import numpy as np\n",
    "import matplotlib.pyplot as plt\n",
    "from scipy.spatial.distance import cdist\n",
    "from sklearn.metrics import precision_recall_curve, auc\n",
    "from sklearn.metrics import roc_auc_score, roc_curve, mean_squared_error, average_precision_score\n",
    "from tqdm import tqdm\n",
    "\n",
    "%matplotlib inline"
   ]
  },
  {
   "cell_type": "markdown",
   "id": "flying-steering",
   "metadata": {},
   "source": [
    "### Get test set pdbs"
   ]
  },
  {
   "cell_type": "code",
   "execution_count": 21,
   "id": "functional-innocent",
   "metadata": {},
   "outputs": [
    {
     "data": {
      "text/html": [
       "<div>\n",
       "<table border=\"1\" class=\"dataframe\">\n",
       "  <thead>\n",
       "    <tr style=\"text-align: right;\">\n",
       "      <th></th>\n",
       "      <th>pdb</th>\n",
       "      <th>Hchain</th>\n",
       "      <th>Lchain</th>\n",
       "      <th>model</th>\n",
       "      <th>antigen_chain</th>\n",
       "    </tr>\n",
       "  </thead>\n",
       "  <tbody>\n",
       "    <tr>\n",
       "      <th>0</th>\n",
       "      <td>7jmo</td>\n",
       "      <td>H</td>\n",
       "      <td>L</td>\n",
       "      <td>0</td>\n",
       "      <td>A</td>\n",
       "    </tr>\n",
       "    <tr>\n",
       "      <th>1</th>\n",
       "      <td>6al5</td>\n",
       "      <td>H</td>\n",
       "      <td>L</td>\n",
       "      <td>0</td>\n",
       "      <td>A</td>\n",
       "    </tr>\n",
       "    <tr>\n",
       "      <th>2</th>\n",
       "      <td>6mqr</td>\n",
       "      <td>H</td>\n",
       "      <td>L</td>\n",
       "      <td>0</td>\n",
       "      <td>A</td>\n",
       "    </tr>\n",
       "    <tr>\n",
       "      <th>3</th>\n",
       "      <td>1fbi</td>\n",
       "      <td>H</td>\n",
       "      <td>L</td>\n",
       "      <td>0</td>\n",
       "      <td>X</td>\n",
       "    </tr>\n",
       "    <tr>\n",
       "      <th>4</th>\n",
       "      <td>6jjp</td>\n",
       "      <td>A</td>\n",
       "      <td>B</td>\n",
       "      <td>0</td>\n",
       "      <td>C</td>\n",
       "    </tr>\n",
       "  </tbody>\n",
       "</table>\n",
       "</div>"
      ],
      "text/plain": [
       "    pdb Hchain Lchain  model antigen_chain\n",
       "0  7jmo      H      L      0             A\n",
       "1  6al5      H      L      0             A\n",
       "2  6mqr      H      L      0             A\n",
       "3  1fbi      H      L      0             X\n",
       "4  6jjp      A      B      0             C"
      ]
     },
     "execution_count": 21,
     "metadata": {},
     "output_type": "execute_result"
    }
   ],
   "source": [
    "root_dir = os.path.abspath('')\n",
    "parapred_dir = os.path.join(root_dir, \"parapred\")\n",
    "data_dir = os.path.join(parapred_dir, \"data\")\n",
    "# test_csv = os.path.join(data_dir, \"dataset_test.csv\")\n",
    "test_csv = os.path.join(data_dir, \"dataset_test_BIG.csv\")\n",
    "\n",
    "test_df = pd.read_csv(test_csv)\n",
    "test_df.head()"
   ]
  },
  {
   "cell_type": "code",
   "execution_count": 22,
   "id": "extreme-therapy",
   "metadata": {},
   "outputs": [
    {
     "name": "stdout",
     "output_type": "stream",
     "text": [
      "Number of Abs in our test set: \t221\n"
     ]
    }
   ],
   "source": [
    "uniq_pdb_list = test_df[\"pdb\"].unique().tolist()\n",
    "print(\"Number of Abs in our test set: \\t{}\".format(len(uniq_pdb_list)))"
   ]
  },
  {
   "cell_type": "markdown",
   "id": "alternative-argentina",
   "metadata": {},
   "source": [
    "### Get Paragraph's detailed predictions for test set which include labels"
   ]
  },
  {
   "cell_type": "code",
   "execution_count": 23,
   "id": "coral-gravity",
   "metadata": {},
   "outputs": [],
   "source": [
    "# PECAN_dir = os.path.join(data_dir, \"PECAN\")\n",
    "# PG_preds = os.path.join(PECAN_dir, \"testset_detailed_record.csv\")\n",
    "\n",
    "# PG_df = pd.read_csv(PG_preds)\n",
    "# PG_df[\"pdb\"] = PG_df.apply(lambda row: row[\"pdb\"].lower(), axis=1)\n",
    "# print(PG_df.shape)\n",
    "# PG_df.head()"
   ]
  },
  {
   "cell_type": "markdown",
   "id": "second-digit",
   "metadata": {},
   "source": [
    "---"
   ]
  },
  {
   "cell_type": "markdown",
   "id": "black-texture",
   "metadata": {},
   "source": [
    "# Run parapred on Chothia numbered files if this hasn't been done already"
   ]
  },
  {
   "cell_type": "markdown",
   "id": "registered-adjustment",
   "metadata": {},
   "source": [
    "Parapred takes around 1 minute to process every 10 pdb files if they have not yet been processed. If all files have been processed then the below takes just a few seconds."
   ]
  },
  {
   "cell_type": "code",
   "execution_count": 24,
   "id": "environmental-protein",
   "metadata": {},
   "outputs": [],
   "source": [
    "pdb_codes_not_found = []\n",
    "pdb_codes_parapred_failed_to_run = []\n",
    "\n",
    "for index, row in test_df.iterrows():\n",
    "    \n",
    "    pdb = row[\"pdb\"]\n",
    "    Hchain = row[\"Hchain\"]\n",
    "    Lchain = row[\"Lchain\"]\n",
    "\n",
    "    pdb_file = \"../ABDB/entries/{}/structure/chothia/{}.pdb\".format(pdb, pdb)\n",
    "#     pdb_file_parapred = \"../ABDB/entries/{}/structure/chothia/{}_parapred_custom_PECANweights.pdb\".format(pdb, pdb)\n",
    "    pdb_file_parapred = \"../ABDB/entries/{}/structure/chothia/{}_parapred_custom_EXPANDEDweights.pdb\".format(pdb, pdb)\n",
    "    \n",
    "    try:\n",
    "        # create a copy of the main chothia numbered file if it does not exist already\n",
    "        # if I mess up parapred then I can remove the if and copy fresh from the original\n",
    "        if os.path.isfile(pdb_file_parapred):\n",
    "            pass  # File already exists\n",
    "        else:\n",
    "            !cp $pdb_file $pdb_file_parapred\n",
    "    \n",
    "        # if parapred has been ran on the file already then it will lose its header and start with 'ATOM'       \n",
    "        with open(pdb_file_parapred, 'r') as f:\n",
    "            if f.readline()[:4] == \"ATOM\":\n",
    "                pass\n",
    "            else:\n",
    "                !parapred pdb $pdb_file_parapred --abh $Hchain --abl $Lchain\n",
    "\n",
    "        # check parapred has run on file and modified it\n",
    "        with open(pdb_file_parapred, 'r') as f:\n",
    "            if f.readline()[:4] != \"ATOM\":\n",
    "                pdb_codes_parapred_failed_to_run.append(pdb)\n",
    "            \n",
    "    except FileNotFoundError:\n",
    "        pdb_codes_not_found.append(pdb)\n",
    "\n",
    "#     if index == 0: break"
   ]
  },
  {
   "cell_type": "code",
   "execution_count": 25,
   "id": "surprised-party",
   "metadata": {},
   "outputs": [
    {
     "name": "stdout",
     "output_type": "stream",
     "text": [
      "pdb codes not found: []\n",
      "pdb codes Parapred failed to run on: []\n"
     ]
    }
   ],
   "source": [
    "print(f\"pdb codes not found: {pdb_codes_not_found}\")\n",
    "print(f\"pdb codes Parapred failed to run on: {pdb_codes_parapred_failed_to_run}\")"
   ]
  },
  {
   "cell_type": "markdown",
   "id": "contained-adaptation",
   "metadata": {},
   "source": [
    "### Remove pdb codes that Parapred failed on"
   ]
  },
  {
   "cell_type": "code",
   "execution_count": 26,
   "id": "mineral-compact",
   "metadata": {},
   "outputs": [
    {
     "name": "stdout",
     "output_type": "stream",
     "text": [
      "No. of pdb codes before: \t221\n",
      "No. of pdb codes after: \t221\n"
     ]
    },
    {
     "data": {
      "text/html": [
       "<div>\n",
       "<table border=\"1\" class=\"dataframe\">\n",
       "  <thead>\n",
       "    <tr style=\"text-align: right;\">\n",
       "      <th></th>\n",
       "      <th>pdb</th>\n",
       "      <th>Hchain</th>\n",
       "      <th>Lchain</th>\n",
       "      <th>model</th>\n",
       "      <th>antigen_chain</th>\n",
       "    </tr>\n",
       "  </thead>\n",
       "  <tbody>\n",
       "    <tr>\n",
       "      <th>0</th>\n",
       "      <td>7jmo</td>\n",
       "      <td>H</td>\n",
       "      <td>L</td>\n",
       "      <td>0</td>\n",
       "      <td>A</td>\n",
       "    </tr>\n",
       "    <tr>\n",
       "      <th>1</th>\n",
       "      <td>6al5</td>\n",
       "      <td>H</td>\n",
       "      <td>L</td>\n",
       "      <td>0</td>\n",
       "      <td>A</td>\n",
       "    </tr>\n",
       "    <tr>\n",
       "      <th>2</th>\n",
       "      <td>6mqr</td>\n",
       "      <td>H</td>\n",
       "      <td>L</td>\n",
       "      <td>0</td>\n",
       "      <td>A</td>\n",
       "    </tr>\n",
       "    <tr>\n",
       "      <th>3</th>\n",
       "      <td>1fbi</td>\n",
       "      <td>H</td>\n",
       "      <td>L</td>\n",
       "      <td>0</td>\n",
       "      <td>X</td>\n",
       "    </tr>\n",
       "    <tr>\n",
       "      <th>4</th>\n",
       "      <td>6jjp</td>\n",
       "      <td>A</td>\n",
       "      <td>B</td>\n",
       "      <td>0</td>\n",
       "      <td>C</td>\n",
       "    </tr>\n",
       "  </tbody>\n",
       "</table>\n",
       "</div>"
      ],
      "text/plain": [
       "    pdb Hchain Lchain  model antigen_chain\n",
       "0  7jmo      H      L      0             A\n",
       "1  6al5      H      L      0             A\n",
       "2  6mqr      H      L      0             A\n",
       "3  1fbi      H      L      0             X\n",
       "4  6jjp      A      B      0             C"
      ]
     },
     "execution_count": 26,
     "metadata": {},
     "output_type": "execute_result"
    }
   ],
   "source": [
    "print(f\"No. of pdb codes before: \\t{test_df.shape[0]}\")\n",
    "test_df = test_df[~test_df[\"pdb\"].isin(pdb_codes_not_found)].reset_index(drop=True)\n",
    "test_df = test_df[~test_df[\"pdb\"].isin(pdb_codes_parapred_failed_to_run)].reset_index(drop=True)\n",
    "print(f\"No. of pdb codes after: \\t{test_df.shape[0]}\")\n",
    "test_df.head()"
   ]
  },
  {
   "cell_type": "markdown",
   "id": "widespread-headline",
   "metadata": {},
   "source": [
    "---"
   ]
  },
  {
   "cell_type": "markdown",
   "id": "continent-emerald",
   "metadata": {},
   "source": [
    "# Functions needed to create dataframe of Parapred predictions from pdb files"
   ]
  },
  {
   "cell_type": "markdown",
   "id": "progressive-blocking",
   "metadata": {},
   "source": [
    "##### Chothia defined CDRs +2 extras residues at both ends (as defined in Parapred supplementary material)"
   ]
  },
  {
   "cell_type": "code",
   "execution_count": 27,
   "id": "annual-charles",
   "metadata": {},
   "outputs": [],
   "source": [
    "def get_chothia_numbered_CDRs():\n",
    "    L1 = ['22', '23', '24', '25', '26',\n",
    "          '27', '28', '29', '30', '30A',\n",
    "          '30B', '30C', '30D', '30E', '30F',\n",
    "          '31', '32', '33', '34', '35', '36']\n",
    "    L2 = ['48', '49', '50', '51', '52',\n",
    "          '53', '54', '54A', '54B', '54C',\n",
    "          '54D', '55', '56', '57', '58']\n",
    "    L3 = ['87', '88', '89', '90', '91',\n",
    "          '92', '93', '94', '95', '95A',\n",
    "          '95B', '95C', '94D', '95E', '96',\n",
    "          '97', '98', '99']\n",
    "    H1 = ['24', '24A', '24B', '24C', '24D',\n",
    "          '24E', '24F', '25', '26', '27',\n",
    "          '28', '29', '30', '31', '31A',\n",
    "          '31B', '31C', '31D', '31E', '32F',\n",
    "          '31G', '32', '33', '34']\n",
    "    H2 = ['50', '51', '52', '52A', '52B',\n",
    "          '52C', '53', '54', '55', '56', '57', '58']\n",
    "    H3 = ['93', '94', '95', '96', '97', '98',\n",
    "          '99', '100', '100A', '100B', '100C',\n",
    "          '100D', '100E', '100F', '100G', '100H', '100I',\n",
    "          '100J', '100K', '100L', '100M', '100N', '100O',\n",
    "          '100P', '100Q', '100R', '100S', '100T', '101',\n",
    "          '102', '103', '104']\n",
    "    return L1, L2, L3, H1, H2, H3"
   ]
  },
  {
   "cell_type": "code",
   "execution_count": 28,
   "id": "growing-wednesday",
   "metadata": {},
   "outputs": [],
   "source": [
    "def format_chothia_pdb(pdb_file):\n",
    "    '''\n",
    "    Process pdb file into pandas df\n",
    "    \n",
    "    Original author: Alissa Hummer\n",
    "    \n",
    "    :param pdb_file: file path of .pdb file to convert\n",
    "    :returns: df with atomic level info\n",
    "    '''\n",
    "    \n",
    "    pd.options.mode.chained_assignment = None\n",
    "    pdb_whole = pd.read_csv(pdb_file,header=None,delimiter='\\t')\n",
    "    pdb_whole.columns = ['pdb']\n",
    "    pdb = pdb_whole[pdb_whole['pdb'].str.startswith('ATOM')]\n",
    "    pdb['Atom_Name'] = pdb['pdb'].str[11:16].copy()\n",
    "    pdb['x'] = pdb['pdb'].str[30:38].copy()\n",
    "    pdb['y'] = pdb['pdb'].str[38:46].copy()\n",
    "    pdb['z'] = pdb['pdb'].str[46:54].copy()\n",
    "    pdb['AA'] = pdb['pdb'].str[17:20].copy()\n",
    "    pdb['Chain'] = pdb['pdb'].str[20:22].copy()\n",
    "    pdb['Chothia'] = pdb['pdb'].str[22:27].copy().str.strip()\n",
    "    pdb['Parapred'] = pdb['pdb'].str[60:66].copy()\n",
    "    pdb['Atom_type'] = pdb['pdb'].str[77].copy()\n",
    "    pdb.drop('pdb',axis=1,inplace=True)\n",
    "    pdb.replace({' ':''}, regex=True, inplace=True)\n",
    "    pdb.reset_index(inplace=True)\n",
    "    pdb.drop('index',axis=1,inplace=True)\n",
    "    \n",
    "    # remove H atoms from our data (interested in heavy atoms only)\n",
    "    pdb = pdb[pdb['Atom_type']!='H']\n",
    "    \n",
    "    pdb['x'] = pdb['x'].str.strip().astype(float)\n",
    "    pdb['y'] = pdb['y'].str.strip().astype(float)\n",
    "    pdb['z'] = pdb['z'].str.strip().astype(float)\n",
    "\n",
    "    return pdb"
   ]
  },
  {
   "cell_type": "code",
   "execution_count": 29,
   "id": "integrated-pleasure",
   "metadata": {},
   "outputs": [],
   "source": [
    "def parapred_CDRplus2_only_df(df, pdb_code, H_id, L_id, Calpha_only=True):\n",
    "    '''\n",
    "    Create smaller df containing only data for CDR C-alpha atoms\n",
    "    \n",
    "    :param df: Chothia numbered dataframe for specific pdb entry\n",
    "    :returns: df with same cols as input but only rows for CDR+2 C-alphas if Calpha_only=True\n",
    "              or all heavy atoms if Calpha_only=False\n",
    "    '''    \n",
    "    # get Chothia numbering\n",
    "    L1, L2, L3, H1, H2, H3 = get_chothia_numbered_CDRs()\n",
    "    CDRL = L1 + L2 + L3\n",
    "    CDRH = H1 + H2 + H3\n",
    "    \n",
    "    # trim df so it contains only CDR residues that exist\n",
    "    if Calpha_only:\n",
    "        df_CDRplus2 = df[(((df[\"Chothia\"].isin(CDRL)) & (df[\"Chain\"]==L_id)) |\n",
    "                          ((df[\"Chothia\"].isin(CDRH)) & (df[\"Chain\"]==H_id))) &\n",
    "                         (df[\"Atom_Name\"].str.strip() == \"CA\")]\n",
    "    else:\n",
    "        df_CDRplus2 = df[(((df[\"Chothia\"].isin(CDRL)) & (df[\"Chain\"]==L_id)) |\n",
    "                         ((df[\"Chothia\"].isin(CDRH)) & (df[\"Chain\"]==H_id)))]\n",
    "    \n",
    "    # get parapred prediction as decimal (0-1) rather than % (0-100)\n",
    "    df_CDRplus2[\"Parapred\"] = df_CDRplus2[\"Parapred\"].astype(float)/100\n",
    "    \n",
    "    # drop duplicates where there is bad data in SAbDab\n",
    "    df_CDRplus2 = df_CDRplus2.drop_duplicates(subset=[\"Chain\", \"Chothia\", \"Atom_Name\"], keep=\"first\").reset_index(drop=True)\n",
    "        \n",
    "    return df_CDRplus2"
   ]
  },
  {
   "cell_type": "markdown",
   "id": "acknowledged-vegetation",
   "metadata": {},
   "source": [
    "### I label according to 4.5A distance cutoff"
   ]
  },
  {
   "cell_type": "code",
   "execution_count": 30,
   "id": "minor-living",
   "metadata": {},
   "outputs": [],
   "source": [
    "def get_labels(df, pdb_code, H_id, L_id, antigen_chain_ids, radius=4.5):\n",
    "    '''\n",
    "    Label CDR residues according to if they bind any epitope AA\n",
    "    \n",
    "    :param df: chothia numbered dataframe for specific pdb entry\n",
    "    :param p: SAbDab database object from p = db.fetch(\"<4_letter_pdb_code>\")\n",
    "    :param radius: the max distance the closest atom in the epitope residue can be\n",
    "                   from a CDR heavy atom for it to be considering 'binding'\n",
    "    :returns: tensor (num_CDR_residues, 1) 1 = binds, 0 = does not bind\n",
    "    '''\n",
    "    \n",
    "    # get df with all atoms belonging to CDR of abs\n",
    "    df_CDRs = parapred_CDRplus2_only_df(df, pdb_code, H_id, L_id, Calpha_only=False)\n",
    "    \n",
    "    # get df with all atoms belonging within radius of any antigen AA heavy atom\n",
    "    df_antigen = df[df[\"Chain\"].isin(antigen_chain_ids)]\n",
    "    # drop duplicates where there is bad data in SAbDab\n",
    "    df_antigen = df_antigen.drop_duplicates(subset=[\"Chain\", \"Chothia\", \"Atom_Name\"], keep=\"first\").reset_index(drop=True)\n",
    "    \n",
    "    # get ndarray of coors for atoms in CDRs and antigen\n",
    "    xyz_arr_CDRs = df_CDRs[[\"x\", \"y\", \"z\"]].get_values()\n",
    "    xyz_arr_anti = df_antigen[[\"x\", \"y\", \"z\"]].get_values()\n",
    "    \n",
    "    # get distances between all CDR atoms and antigen atoms\n",
    "    dist_matrix = cdist(xyz_arr_CDRs, xyz_arr_anti, 'euclidean')\n",
    "    adj_matrix = np.where(dist_matrix <= radius, 1, 0)\n",
    "    \n",
    "    # sum over each CDR atom - we only care that there is a hit, not how many\n",
    "    num_hits_per_CDR_atom = np.sum(adj_matrix, axis=1)\n",
    "    \n",
    "    # add this new data back to df so we can group by each CDR residue\n",
    "    df_CDRs[\"num_hits_per_CDR_atom\"] = num_hits_per_CDR_atom\n",
    "    labels = df_CDRs.groupby([\"Chain\", \"Chothia\"])[\"num_hits_per_CDR_atom\"].sum()\n",
    "    labels = labels.reset_index()\n",
    "\n",
    "    # the order is lost in the groupby and sum and so we left join on ordered df to regain order\n",
    "    df_CDRs_Calpha = parapred_CDRplus2_only_df(df, pdb_code, H_id, L_id, Calpha_only=True)\n",
    "    labels_ordered = pd.merge(df_CDRs_Calpha[[\"Chain\", \"Chothia\"]], labels, how='left',\n",
    "                              left_on=[\"Chain\", \"Chothia\"], right_on = [\"Chain\", \"Chothia\"])[\"num_hits_per_CDR_atom\"]\n",
    "    \n",
    "    # our data is currently how many residue atoms got a 'hit' but again we only care that one exists\n",
    "    labels_ordered = np.where(labels_ordered > 0, 1, 0)\n",
    "    \n",
    "    return labels_ordered"
   ]
  },
  {
   "cell_type": "markdown",
   "id": "amended-notice",
   "metadata": {},
   "source": [
    "---"
   ]
  },
  {
   "cell_type": "markdown",
   "id": "listed-allergy",
   "metadata": {},
   "source": [
    "# Create master dataframe with all of Parapred's predictions and labels"
   ]
  },
  {
   "cell_type": "code",
   "execution_count": 32,
   "id": "banner-pendant",
   "metadata": {},
   "outputs": [
    {
     "name": "stderr",
     "output_type": "stream",
     "text": [
      "221it [00:21, 10.06it/s]"
     ]
    },
    {
     "name": "stdout",
     "output_type": "stream",
     "text": [
      "(17133, 11)\n"
     ]
    },
    {
     "name": "stderr",
     "output_type": "stream",
     "text": [
      "\n"
     ]
    },
    {
     "data": {
      "text/html": [
       "<div>\n",
       "<table border=\"1\" class=\"dataframe\">\n",
       "  <thead>\n",
       "    <tr style=\"text-align: right;\">\n",
       "      <th></th>\n",
       "      <th>Atom_Name</th>\n",
       "      <th>x</th>\n",
       "      <th>y</th>\n",
       "      <th>z</th>\n",
       "      <th>AA</th>\n",
       "      <th>Chain</th>\n",
       "      <th>Chothia</th>\n",
       "      <th>Parapred</th>\n",
       "      <th>Atom_type</th>\n",
       "      <th>pdb</th>\n",
       "      <th>chothia_label</th>\n",
       "    </tr>\n",
       "  </thead>\n",
       "  <tbody>\n",
       "    <tr>\n",
       "      <th>0</th>\n",
       "      <td>CA</td>\n",
       "      <td>16.324</td>\n",
       "      <td>33.581</td>\n",
       "      <td>25.254</td>\n",
       "      <td>ALA</td>\n",
       "      <td>H</td>\n",
       "      <td>24</td>\n",
       "      <td>0.0089</td>\n",
       "      <td>C</td>\n",
       "      <td>6j5f</td>\n",
       "      <td>0</td>\n",
       "    </tr>\n",
       "    <tr>\n",
       "      <th>1</th>\n",
       "      <td>CA</td>\n",
       "      <td>13.762</td>\n",
       "      <td>35.948</td>\n",
       "      <td>26.734</td>\n",
       "      <td>SER</td>\n",
       "      <td>H</td>\n",
       "      <td>25</td>\n",
       "      <td>0.0099</td>\n",
       "      <td>C</td>\n",
       "      <td>6j5f</td>\n",
       "      <td>0</td>\n",
       "    </tr>\n",
       "    <tr>\n",
       "      <th>2</th>\n",
       "      <td>CA</td>\n",
       "      <td>11.399</td>\n",
       "      <td>36.064</td>\n",
       "      <td>29.681</td>\n",
       "      <td>GLY</td>\n",
       "      <td>H</td>\n",
       "      <td>26</td>\n",
       "      <td>0.0784</td>\n",
       "      <td>C</td>\n",
       "      <td>6j5f</td>\n",
       "      <td>0</td>\n",
       "    </tr>\n",
       "    <tr>\n",
       "      <th>3</th>\n",
       "      <td>CA</td>\n",
       "      <td>13.911</td>\n",
       "      <td>34.914</td>\n",
       "      <td>32.309</td>\n",
       "      <td>TYR</td>\n",
       "      <td>H</td>\n",
       "      <td>27</td>\n",
       "      <td>0.1206</td>\n",
       "      <td>C</td>\n",
       "      <td>6j5f</td>\n",
       "      <td>0</td>\n",
       "    </tr>\n",
       "    <tr>\n",
       "      <th>4</th>\n",
       "      <td>CA</td>\n",
       "      <td>17.456</td>\n",
       "      <td>35.398</td>\n",
       "      <td>33.606</td>\n",
       "      <td>THR</td>\n",
       "      <td>H</td>\n",
       "      <td>28</td>\n",
       "      <td>0.2957</td>\n",
       "      <td>C</td>\n",
       "      <td>6j5f</td>\n",
       "      <td>0</td>\n",
       "    </tr>\n",
       "    <tr>\n",
       "      <th>5</th>\n",
       "      <td>CA</td>\n",
       "      <td>19.700</td>\n",
       "      <td>33.831</td>\n",
       "      <td>31.023</td>\n",
       "      <td>PHE</td>\n",
       "      <td>H</td>\n",
       "      <td>29</td>\n",
       "      <td>0.0310</td>\n",
       "      <td>C</td>\n",
       "      <td>6j5f</td>\n",
       "      <td>0</td>\n",
       "    </tr>\n",
       "    <tr>\n",
       "      <th>6</th>\n",
       "      <td>CA</td>\n",
       "      <td>22.598</td>\n",
       "      <td>32.778</td>\n",
       "      <td>33.256</td>\n",
       "      <td>THR</td>\n",
       "      <td>H</td>\n",
       "      <td>30</td>\n",
       "      <td>0.7001</td>\n",
       "      <td>C</td>\n",
       "      <td>6j5f</td>\n",
       "      <td>0</td>\n",
       "    </tr>\n",
       "    <tr>\n",
       "      <th>7</th>\n",
       "      <td>CA</td>\n",
       "      <td>20.403</td>\n",
       "      <td>30.816</td>\n",
       "      <td>35.699</td>\n",
       "      <td>ASP</td>\n",
       "      <td>H</td>\n",
       "      <td>31</td>\n",
       "      <td>0.8484</td>\n",
       "      <td>C</td>\n",
       "      <td>6j5f</td>\n",
       "      <td>0</td>\n",
       "    </tr>\n",
       "    <tr>\n",
       "      <th>8</th>\n",
       "      <td>CA</td>\n",
       "      <td>19.579</td>\n",
       "      <td>28.125</td>\n",
       "      <td>33.120</td>\n",
       "      <td>TYR</td>\n",
       "      <td>H</td>\n",
       "      <td>32</td>\n",
       "      <td>0.6367</td>\n",
       "      <td>C</td>\n",
       "      <td>6j5f</td>\n",
       "      <td>0</td>\n",
       "    </tr>\n",
       "    <tr>\n",
       "      <th>9</th>\n",
       "      <td>CA</td>\n",
       "      <td>21.373</td>\n",
       "      <td>25.577</td>\n",
       "      <td>30.945</td>\n",
       "      <td>VAL</td>\n",
       "      <td>H</td>\n",
       "      <td>33</td>\n",
       "      <td>0.9245</td>\n",
       "      <td>C</td>\n",
       "      <td>6j5f</td>\n",
       "      <td>0</td>\n",
       "    </tr>\n",
       "  </tbody>\n",
       "</table>\n",
       "</div>"
      ],
      "text/plain": [
       "  Atom_Name       x       y       z   AA Chain Chothia  Parapred Atom_type  \\\n",
       "0        CA  16.324  33.581  25.254  ALA     H      24    0.0089         C   \n",
       "1        CA  13.762  35.948  26.734  SER     H      25    0.0099         C   \n",
       "2        CA  11.399  36.064  29.681  GLY     H      26    0.0784         C   \n",
       "3        CA  13.911  34.914  32.309  TYR     H      27    0.1206         C   \n",
       "4        CA  17.456  35.398  33.606  THR     H      28    0.2957         C   \n",
       "5        CA  19.700  33.831  31.023  PHE     H      29    0.0310         C   \n",
       "6        CA  22.598  32.778  33.256  THR     H      30    0.7001         C   \n",
       "7        CA  20.403  30.816  35.699  ASP     H      31    0.8484         C   \n",
       "8        CA  19.579  28.125  33.120  TYR     H      32    0.6367         C   \n",
       "9        CA  21.373  25.577  30.945  VAL     H      33    0.9245         C   \n",
       "\n",
       "    pdb  chothia_label  \n",
       "0  6j5f              0  \n",
       "1  6j5f              0  \n",
       "2  6j5f              0  \n",
       "3  6j5f              0  \n",
       "4  6j5f              0  \n",
       "5  6j5f              0  \n",
       "6  6j5f              0  \n",
       "7  6j5f              0  \n",
       "8  6j5f              0  \n",
       "9  6j5f              0  "
      ]
     },
     "execution_count": 32,
     "metadata": {},
     "output_type": "execute_result"
    }
   ],
   "source": [
    "for index, row in tqdm(test_df.iterrows()):\n",
    "\n",
    "    pdb = row[\"pdb\"]\n",
    "    Hchain = row[\"Hchain\"]\n",
    "    Lchain = row[\"Lchain\"]\n",
    "    Ag_ids = row[\"antigen_chain\"].split(\"|\")\n",
    "    Ag_ids = [Ag_id.strip() for Ag_id in Ag_ids]\n",
    "    \n",
    "    pdb_file = \"../ABDB/entries/{}/structure/chothia/{}.pdb\".format(pdb, pdb)\n",
    "    \n",
    "    # predictions using my new weights\n",
    "#     pdb_file_parapred = \"../ABDB/entries/{}/structure/chothia/{}_parapred_custom_PECANweights.pdb\".format(pdb, pdb)\n",
    "    pdb_file_parapred = \"../ABDB/entries/{}/structure/chothia/{}_parapred_custom_EXPANDEDweights.pdb\".format(pdb, pdb)\n",
    "    \n",
    "    # predictions using Parapred's OOTB weights\n",
    "    # pdb_file_parapred = \"../ABDB/entries/{}/structure/chothia/{}_parapred_PECANdata.pdb\".format(pdb, pdb)\n",
    "    \n",
    "    df_pp = format_chothia_pdb(pdb_file_parapred)\n",
    "    df_CDRs = parapred_CDRplus2_only_df(df_pp, pdb, Hchain, Lchain, Calpha_only=True)\n",
    "    df_CDRs[\"pdb\"] = pdb\n",
    "    \n",
    "    df_original = format_chothia_pdb(pdb_file)\n",
    "    labels = get_labels(df_original, pdb, Hchain, Lchain, Ag_ids)\n",
    "    df_CDRs[\"chothia_label\"] = labels\n",
    "    \n",
    "    if index == 0:\n",
    "        df_chothia_master = df_CDRs\n",
    "    else:\n",
    "        df_chothia_master = pd.concat([df_CDRs, df_chothia_master]).reset_index(drop=True)\n",
    "    \n",
    "#     if index == 3: break\n",
    "\n",
    "print(df_chothia_master.shape)\n",
    "df_chothia_master.head(10)"
   ]
  },
  {
   "cell_type": "markdown",
   "id": "active-folder",
   "metadata": {},
   "source": [
    "---"
   ]
  },
  {
   "cell_type": "markdown",
   "id": "hairy-gallery",
   "metadata": {},
   "source": [
    "# Visualise Parapred's performance"
   ]
  },
  {
   "cell_type": "markdown",
   "id": "planned-drive",
   "metadata": {},
   "source": [
    "In their paper, the authors report Parapred's performance as:\n",
    "\n",
    "* ROC AUC: 0.878\n",
    "* F-score: 0.690\n",
    "* MCC: 0.554"
   ]
  },
  {
   "cell_type": "code",
   "execution_count": 33,
   "id": "steady-killer",
   "metadata": {},
   "outputs": [
    {
     "name": "stdout",
     "output_type": "stream",
     "text": [
      "Parapred PR AUC: \t0.612\n",
      "Parapred ROC AUC: \t0.827\n"
     ]
    }
   ],
   "source": [
    "precision, recall, _ = precision_recall_curve(df_chothia_master[\"chothia_label\"], df_chothia_master[\"Parapred\"])\n",
    "print(\"Parapred PR AUC: \\t{:.3f}\".format(auc(recall, precision)))\n",
    "print(\"Parapred ROC AUC: \\t{:.3f}\".format(roc_auc_score(df_chothia_master[\"chothia_label\"], df_chothia_master[\"Parapred\"])))"
   ]
  },
  {
   "cell_type": "code",
   "execution_count": 35,
   "id": "focal-concentration",
   "metadata": {},
   "outputs": [
    {
     "data": {
      "image/png": "[encoded data removed]",
      "text/plain": [
       "<matplotlib.figure.Figure at 0x7eff4ac4f780>"
      ]
     },
     "metadata": {
      "needs_background": "light"
     },
     "output_type": "display_data"
    }
   ],
   "source": [
    "non_binders = df_chothia_master[df_chothia_master[\"chothia_label\"]==0][\"Parapred\"].tolist()\n",
    "binders = df_chothia_master[df_chothia_master[\"chothia_label\"]==1][\"Parapred\"].tolist()\n",
    "\n",
    "bins = np.linspace(0, 1, 50)\n",
    "\n",
    "plt.hist(non_binders, bins, alpha=0.5, label='non-binders')\n",
    "plt.hist(binders, bins, alpha=0.5, label='binders')\n",
    "plt.legend(loc='upper right')\n",
    "plt.show()"
   ]
  },
  {
   "cell_type": "code",
   "execution_count": null,
   "id": "threatened-ballet",
   "metadata": {},
   "outputs": [],
   "source": []
  }
 ],
 "metadata": {
  "kernelspec": {
   "display_name": "pp_custom",
   "language": "python",
   "name": "pp_custom"
  },
  "language_info": {
   "codemirror_mode": {
    "name": "ipython",
    "version": 3
   },
   "file_extension": ".py",
   "mimetype": "text/x-python",
   "name": "python",
   "nbconvert_exporter": "python",
   "pygments_lexer": "ipython3",
   "version": "3.6.13"
  }
 },
 "nbformat": 4,
 "nbformat_minor": 5
}
